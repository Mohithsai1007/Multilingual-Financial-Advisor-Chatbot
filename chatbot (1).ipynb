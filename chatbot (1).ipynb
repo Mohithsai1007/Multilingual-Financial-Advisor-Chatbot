{
  "nbformat": 4,
  "nbformat_minor": 0,
  "metadata": {
    "colab": {
      "provenance": []
    },
    "kernelspec": {
      "name": "python3",
      "display_name": "Python 3"
    },
    "language_info": {
      "name": "python"
    }
  },
  "cells": [
    {
      "cell_type": "code",
      "source": [
        "from google.colab import drive\n",
        "drive.mount('/content/drive')\n"
      ],
      "metadata": {
        "colab": {
          "base_uri": "https://localhost:8080/"
        },
        "id": "T4u-yLtCidVL",
        "outputId": "fc245e32-de03-4d6f-87d7-4f416c848ac4"
      },
      "execution_count": 4,
      "outputs": [
        {
          "output_type": "stream",
          "name": "stdout",
          "text": [
            "Mounted at /content/drive\n"
          ]
        }
      ]
    },
    {
      "cell_type": "code",
      "source": [
        "!pip install nltk scikit-learn joblib\n"
      ],
      "metadata": {
        "colab": {
          "base_uri": "https://localhost:8080/"
        },
        "id": "VCwY339JkxQQ",
        "outputId": "7106d218-7525-4980-f3c8-d277b3093d6d"
      },
      "execution_count": 6,
      "outputs": [
        {
          "output_type": "stream",
          "name": "stdout",
          "text": [
            "Requirement already satisfied: nltk in /usr/local/lib/python3.11/dist-packages (3.9.1)\n",
            "Requirement already satisfied: scikit-learn in /usr/local/lib/python3.11/dist-packages (1.6.1)\n",
            "Requirement already satisfied: joblib in /usr/local/lib/python3.11/dist-packages (1.5.1)\n",
            "Requirement already satisfied: click in /usr/local/lib/python3.11/dist-packages (from nltk) (8.2.1)\n",
            "Requirement already satisfied: regex>=2021.8.3 in /usr/local/lib/python3.11/dist-packages (from nltk) (2024.11.6)\n",
            "Requirement already satisfied: tqdm in /usr/local/lib/python3.11/dist-packages (from nltk) (4.67.1)\n",
            "Requirement already satisfied: numpy>=1.19.5 in /usr/local/lib/python3.11/dist-packages (from scikit-learn) (2.0.2)\n",
            "Requirement already satisfied: scipy>=1.6.0 in /usr/local/lib/python3.11/dist-packages (from scikit-learn) (1.16.1)\n",
            "Requirement already satisfied: threadpoolctl>=3.1.0 in /usr/local/lib/python3.11/dist-packages (from scikit-learn) (3.6.0)\n"
          ]
        }
      ]
    },
    {
      "cell_type": "code",
      "source": [
        "import json\n",
        "import random\n",
        "import nltk\n",
        "import numpy as np\n",
        "import joblib\n",
        "from sklearn.feature_extraction.text import CountVectorizer\n",
        "from sklearn.linear_model import LogisticRegression\n",
        "\n",
        "nltk.download('punkt')\n"
      ],
      "metadata": {
        "colab": {
          "base_uri": "https://localhost:8080/"
        },
        "id": "1CdyjVvIk2Du",
        "outputId": "17f310b9-d8f3-456e-ffa8-78d0507c7e48"
      },
      "execution_count": 7,
      "outputs": [
        {
          "output_type": "stream",
          "name": "stderr",
          "text": [
            "[nltk_data] Downloading package punkt to /root/nltk_data...\n",
            "[nltk_data]   Package punkt is already up-to-date!\n"
          ]
        },
        {
          "output_type": "execute_result",
          "data": {
            "text/plain": [
              "True"
            ]
          },
          "metadata": {},
          "execution_count": 7
        }
      ]
    },
    {
      "cell_type": "code",
      "source": [
        "with open(\"/content/drive/MyDrive/Multilingual-Financial-Advisor-Chatbot/data/intents.json\") as f:\n",
        "    data = json.load(f)\n"
      ],
      "metadata": {
        "id": "0q2fSo2Tk47F"
      },
      "execution_count": 8,
      "outputs": []
    },
    {
      "cell_type": "code",
      "source": [
        "X = []\n",
        "y = []\n",
        "tags = []\n",
        "\n",
        "for intent in data[\"intents\"]:\n",
        "    tag = intent[\"tag\"]\n",
        "    tags.append(tag)\n",
        "    for pattern in intent[\"patterns\"]:\n",
        "        X.append(pattern)\n",
        "        y.append(tag)\n",
        "\n",
        "vectorizer = CountVectorizer()\n",
        "X_vec = vectorizer.fit_transform(X)\n",
        "\n",
        "clf = LogisticRegression()\n",
        "clf.fit(X_vec, y)\n",
        "\n",
        "print(\"✅ Model trained successfully.\")\n"
      ],
      "metadata": {
        "colab": {
          "base_uri": "https://localhost:8080/"
        },
        "id": "-i8jSX6_k8G7",
        "outputId": "91fe6827-5b0d-4195-e525-270e66f9d6dd"
      },
      "execution_count": 9,
      "outputs": [
        {
          "output_type": "stream",
          "name": "stdout",
          "text": [
            "✅ Model trained successfully.\n"
          ]
        }
      ]
    },
    {
      "cell_type": "code",
      "source": [
        "def predict_intent(user_input):\n",
        "    input_vec = vectorizer.transform([user_input])\n",
        "    prediction = clf.predict(input_vec)[0]\n",
        "    return prediction\n",
        "\n",
        "def get_response(tag):\n",
        "    for intent in data[\"intents\"]:\n",
        "        if intent[\"tag\"] == tag:\n",
        "            return random.choice(intent[\"responses\"])\n"
      ],
      "metadata": {
        "id": "qadICPvpk_Wd"
      },
      "execution_count": 10,
      "outputs": []
    },
    {
      "cell_type": "code",
      "source": [
        "user_input = \"Can I get a loan?\"\n",
        "tag = predict_intent(user_input)\n",
        "response = get_response(tag)\n",
        "print(f\"🤖 Bot: {response}\")\n"
      ],
      "metadata": {
        "colab": {
          "base_uri": "https://localhost:8080/"
        },
        "id": "Cdvw2XhFlCJU",
        "outputId": "c4260d2d-299a-4576-df4e-9a397d37f0db"
      },
      "execution_count": 11,
      "outputs": [
        {
          "output_type": "stream",
          "name": "stdout",
          "text": [
            "🤖 Bot: Please enter your income and credit score to check eligibility.\n"
          ]
        }
      ]
    },
    {
      "cell_type": "code",
      "source": [
        "!pip install vaderSentiment\n",
        "from vaderSentiment.vaderSentiment import SentimentIntensityAnalyzer\n",
        "\n",
        "analyzer = SentimentIntensityAnalyzer()\n",
        "\n",
        "def analyze_sentiment(text):\n",
        "    score = analyzer.polarity_scores(text)['compound']\n",
        "    if score >= 0.05:\n",
        "        return \"🙂 Positive\"\n",
        "    elif score <= -0.05:\n",
        "        return \"😞 Negative\"\n",
        "    else:\n",
        "        return \"😐 Neutral\"\n"
      ],
      "metadata": {
        "colab": {
          "base_uri": "https://localhost:8080/"
        },
        "id": "v-r6Ud9GlcAn",
        "outputId": "40fd8afb-16ed-46a6-bf98-20ddc87650ae"
      },
      "execution_count": 12,
      "outputs": [
        {
          "output_type": "stream",
          "name": "stdout",
          "text": [
            "Collecting vaderSentiment\n",
            "  Downloading vaderSentiment-3.3.2-py2.py3-none-any.whl.metadata (572 bytes)\n",
            "Requirement already satisfied: requests in /usr/local/lib/python3.11/dist-packages (from vaderSentiment) (2.32.3)\n",
            "Requirement already satisfied: charset-normalizer<4,>=2 in /usr/local/lib/python3.11/dist-packages (from requests->vaderSentiment) (3.4.2)\n",
            "Requirement already satisfied: idna<4,>=2.5 in /usr/local/lib/python3.11/dist-packages (from requests->vaderSentiment) (3.10)\n",
            "Requirement already satisfied: urllib3<3,>=1.21.1 in /usr/local/lib/python3.11/dist-packages (from requests->vaderSentiment) (2.5.0)\n",
            "Requirement already satisfied: certifi>=2017.4.17 in /usr/local/lib/python3.11/dist-packages (from requests->vaderSentiment) (2025.7.14)\n",
            "Downloading vaderSentiment-3.3.2-py2.py3-none-any.whl (125 kB)\n",
            "\u001b[?25l   \u001b[90m━━━━━━━━━━━━━━━━━━━━━━━━━━━━━━━━━━━━━━━━\u001b[0m \u001b[32m0.0/126.0 kB\u001b[0m \u001b[31m?\u001b[0m eta \u001b[36m-:--:--\u001b[0m\r\u001b[2K   \u001b[90m━━━━━━━━━━━━━━━━━━━━━━━━━━━━━━━━━━━━━━━━\u001b[0m \u001b[32m126.0/126.0 kB\u001b[0m \u001b[31m8.5 MB/s\u001b[0m eta \u001b[36m0:00:00\u001b[0m\n",
            "\u001b[?25hInstalling collected packages: vaderSentiment\n",
            "Successfully installed vaderSentiment-3.3.2\n"
          ]
        }
      ]
    },
    {
      "cell_type": "code",
      "source": [
        "user_input = \"I'm really confused about loans\"\n",
        "print(\"Sentiment:\", analyze_sentiment(user_input))\n"
      ],
      "metadata": {
        "colab": {
          "base_uri": "https://localhost:8080/"
        },
        "id": "XZQ0t85tlhSD",
        "outputId": "d53fad49-c2c2-4649-f0c1-f41216996960"
      },
      "execution_count": 13,
      "outputs": [
        {
          "output_type": "stream",
          "name": "stdout",
          "text": [
            "Sentiment: 😞 Negative\n"
          ]
        }
      ]
    },
    {
      "cell_type": "code",
      "source": [
        "!pip install googletrans==4.0.0-rc1\n",
        "from googletrans import Translator\n",
        "\n",
        "translator = Translator()\n",
        "\n",
        "def translate_to_english(text):\n",
        "    result = translator.translate(text, src='auto', dest='en')\n",
        "    return result.text\n"
      ],
      "metadata": {
        "colab": {
          "base_uri": "https://localhost:8080/"
        },
        "id": "I4_LJFfKlnDi",
        "outputId": "15454367-34c9-4c37-a3a5-7f69444b83ae"
      },
      "execution_count": 14,
      "outputs": [
        {
          "output_type": "stream",
          "name": "stdout",
          "text": [
            "Collecting googletrans==4.0.0-rc1\n",
            "  Downloading googletrans-4.0.0rc1.tar.gz (20 kB)\n",
            "  Preparing metadata (setup.py) ... \u001b[?25l\u001b[?25hdone\n",
            "Collecting httpx==0.13.3 (from googletrans==4.0.0-rc1)\n",
            "  Downloading httpx-0.13.3-py3-none-any.whl.metadata (25 kB)\n",
            "Requirement already satisfied: certifi in /usr/local/lib/python3.11/dist-packages (from httpx==0.13.3->googletrans==4.0.0-rc1) (2025.7.14)\n",
            "Collecting hstspreload (from httpx==0.13.3->googletrans==4.0.0-rc1)\n",
            "  Downloading hstspreload-2025.1.1-py3-none-any.whl.metadata (2.1 kB)\n",
            "Requirement already satisfied: sniffio in /usr/local/lib/python3.11/dist-packages (from httpx==0.13.3->googletrans==4.0.0-rc1) (1.3.1)\n",
            "Collecting chardet==3.* (from httpx==0.13.3->googletrans==4.0.0-rc1)\n",
            "  Downloading chardet-3.0.4-py2.py3-none-any.whl.metadata (3.2 kB)\n",
            "Collecting idna==2.* (from httpx==0.13.3->googletrans==4.0.0-rc1)\n",
            "  Downloading idna-2.10-py2.py3-none-any.whl.metadata (9.1 kB)\n",
            "Collecting rfc3986<2,>=1.3 (from httpx==0.13.3->googletrans==4.0.0-rc1)\n",
            "  Downloading rfc3986-1.5.0-py2.py3-none-any.whl.metadata (6.5 kB)\n",
            "Collecting httpcore==0.9.* (from httpx==0.13.3->googletrans==4.0.0-rc1)\n",
            "  Downloading httpcore-0.9.1-py3-none-any.whl.metadata (4.6 kB)\n",
            "Collecting h11<0.10,>=0.8 (from httpcore==0.9.*->httpx==0.13.3->googletrans==4.0.0-rc1)\n",
            "  Downloading h11-0.9.0-py2.py3-none-any.whl.metadata (8.1 kB)\n",
            "Collecting h2==3.* (from httpcore==0.9.*->httpx==0.13.3->googletrans==4.0.0-rc1)\n",
            "  Downloading h2-3.2.0-py2.py3-none-any.whl.metadata (32 kB)\n",
            "Collecting hyperframe<6,>=5.2.0 (from h2==3.*->httpcore==0.9.*->httpx==0.13.3->googletrans==4.0.0-rc1)\n",
            "  Downloading hyperframe-5.2.0-py2.py3-none-any.whl.metadata (7.2 kB)\n",
            "Collecting hpack<4,>=3.0 (from h2==3.*->httpcore==0.9.*->httpx==0.13.3->googletrans==4.0.0-rc1)\n",
            "  Downloading hpack-3.0.0-py2.py3-none-any.whl.metadata (7.0 kB)\n",
            "Downloading httpx-0.13.3-py3-none-any.whl (55 kB)\n",
            "\u001b[2K   \u001b[90m━━━━━━━━━━━━━━━━━━━━━━━━━━━━━━━━━━━━━━━━\u001b[0m \u001b[32m55.1/55.1 kB\u001b[0m \u001b[31m4.1 MB/s\u001b[0m eta \u001b[36m0:00:00\u001b[0m\n",
            "\u001b[?25hDownloading chardet-3.0.4-py2.py3-none-any.whl (133 kB)\n",
            "\u001b[2K   \u001b[90m━━━━━━━━━━━━━━━━━━━━━━━━━━━━━━━━━━━━━━━━\u001b[0m \u001b[32m133.4/133.4 kB\u001b[0m \u001b[31m10.8 MB/s\u001b[0m eta \u001b[36m0:00:00\u001b[0m\n",
            "\u001b[?25hDownloading httpcore-0.9.1-py3-none-any.whl (42 kB)\n",
            "\u001b[2K   \u001b[90m━━━━━━━━━━━━━━━━━━━━━━━━━━━━━━━━━━━━━━━━\u001b[0m \u001b[32m42.6/42.6 kB\u001b[0m \u001b[31m3.1 MB/s\u001b[0m eta \u001b[36m0:00:00\u001b[0m\n",
            "\u001b[?25hDownloading idna-2.10-py2.py3-none-any.whl (58 kB)\n",
            "\u001b[2K   \u001b[90m━━━━━━━━━━━━━━━━━━━━━━━━━━━━━━━━━━━━━━━━\u001b[0m \u001b[32m58.8/58.8 kB\u001b[0m \u001b[31m4.5 MB/s\u001b[0m eta \u001b[36m0:00:00\u001b[0m\n",
            "\u001b[?25hDownloading h2-3.2.0-py2.py3-none-any.whl (65 kB)\n",
            "\u001b[2K   \u001b[90m━━━━━━━━━━━━━━━━━━━━━━━━━━━━━━━━━━━━━━━━\u001b[0m \u001b[32m65.0/65.0 kB\u001b[0m \u001b[31m5.5 MB/s\u001b[0m eta \u001b[36m0:00:00\u001b[0m\n",
            "\u001b[?25hDownloading rfc3986-1.5.0-py2.py3-none-any.whl (31 kB)\n",
            "Downloading hstspreload-2025.1.1-py3-none-any.whl (1.3 MB)\n",
            "\u001b[2K   \u001b[90m━━━━━━━━━━━━━━━━━━━━━━━━━━━━━━━━━━━━━━━━\u001b[0m \u001b[32m1.3/1.3 MB\u001b[0m \u001b[31m61.3 MB/s\u001b[0m eta \u001b[36m0:00:00\u001b[0m\n",
            "\u001b[?25hDownloading h11-0.9.0-py2.py3-none-any.whl (53 kB)\n",
            "\u001b[2K   \u001b[90m━━━━━━━━━━━━━━━━━━━━━━━━━━━━━━━━━━━━━━━━\u001b[0m \u001b[32m53.6/53.6 kB\u001b[0m \u001b[31m4.4 MB/s\u001b[0m eta \u001b[36m0:00:00\u001b[0m\n",
            "\u001b[?25hDownloading hpack-3.0.0-py2.py3-none-any.whl (38 kB)\n",
            "Downloading hyperframe-5.2.0-py2.py3-none-any.whl (12 kB)\n",
            "Building wheels for collected packages: googletrans\n",
            "  Building wheel for googletrans (setup.py) ... \u001b[?25l\u001b[?25hdone\n",
            "  Created wheel for googletrans: filename=googletrans-4.0.0rc1-py3-none-any.whl size=17396 sha256=85becdbaae50e854058112da7c7e8f74480607d0178f36ea7530dbfc110a6865\n",
            "  Stored in directory: /root/.cache/pip/wheels/39/17/6f/66a045ea3d168826074691b4b787b8f324d3f646d755443fda\n",
            "Successfully built googletrans\n",
            "Installing collected packages: rfc3986, hyperframe, hpack, h11, chardet, idna, hstspreload, h2, httpcore, httpx, googletrans\n",
            "  Attempting uninstall: hyperframe\n",
            "    Found existing installation: hyperframe 6.1.0\n",
            "    Uninstalling hyperframe-6.1.0:\n",
            "      Successfully uninstalled hyperframe-6.1.0\n",
            "  Attempting uninstall: hpack\n",
            "    Found existing installation: hpack 4.1.0\n",
            "    Uninstalling hpack-4.1.0:\n",
            "      Successfully uninstalled hpack-4.1.0\n",
            "  Attempting uninstall: h11\n",
            "    Found existing installation: h11 0.16.0\n",
            "    Uninstalling h11-0.16.0:\n",
            "      Successfully uninstalled h11-0.16.0\n",
            "  Attempting uninstall: chardet\n",
            "    Found existing installation: chardet 5.2.0\n",
            "    Uninstalling chardet-5.2.0:\n",
            "      Successfully uninstalled chardet-5.2.0\n",
            "  Attempting uninstall: idna\n",
            "    Found existing installation: idna 3.10\n",
            "    Uninstalling idna-3.10:\n",
            "      Successfully uninstalled idna-3.10\n",
            "  Attempting uninstall: h2\n",
            "    Found existing installation: h2 4.2.0\n",
            "    Uninstalling h2-4.2.0:\n",
            "      Successfully uninstalled h2-4.2.0\n",
            "  Attempting uninstall: httpcore\n",
            "    Found existing installation: httpcore 1.0.9\n",
            "    Uninstalling httpcore-1.0.9:\n",
            "      Successfully uninstalled httpcore-1.0.9\n",
            "  Attempting uninstall: httpx\n",
            "    Found existing installation: httpx 0.28.1\n",
            "    Uninstalling httpx-0.28.1:\n",
            "      Successfully uninstalled httpx-0.28.1\n",
            "\u001b[31mERROR: pip's dependency resolver does not currently take into account all the packages that are installed. This behaviour is the source of the following dependency conflicts.\n",
            "firebase-admin 6.9.0 requires httpx[http2]==0.28.1, but you have httpx 0.13.3 which is incompatible.\n",
            "langsmith 0.4.8 requires httpx<1,>=0.23.0, but you have httpx 0.13.3 which is incompatible.\n",
            "openai 1.97.1 requires httpx<1,>=0.23.0, but you have httpx 0.13.3 which is incompatible.\n",
            "gradio 5.38.2 requires httpx<1.0,>=0.24.1, but you have httpx 0.13.3 which is incompatible.\n",
            "gradio-client 1.11.0 requires httpx>=0.24.1, but you have httpx 0.13.3 which is incompatible.\n",
            "google-genai 1.27.0 requires httpx<1.0.0,>=0.28.1, but you have httpx 0.13.3 which is incompatible.\u001b[0m\u001b[31m\n",
            "\u001b[0mSuccessfully installed chardet-3.0.4 googletrans-4.0.0rc1 h11-0.9.0 h2-3.2.0 hpack-3.0.0 hstspreload-2025.1.1 httpcore-0.9.1 httpx-0.13.3 hyperframe-5.2.0 idna-2.10 rfc3986-1.5.0\n"
          ]
        }
      ]
    },
    {
      "cell_type": "code",
      "source": [
        "user_input = \"मुझे लोन चाहिए\"  # Hindi for \"I want a loan\"\n",
        "english_text = translate_to_english(user_input)\n",
        "print(\"Translated:\", english_text)\n"
      ],
      "metadata": {
        "colab": {
          "base_uri": "https://localhost:8080/"
        },
        "id": "MqI4_XUhlsIw",
        "outputId": "dcd4e9c8-4f1c-4ac1-dbe7-e81b6fdf9fdf"
      },
      "execution_count": 15,
      "outputs": [
        {
          "output_type": "stream",
          "name": "stdout",
          "text": [
            "Translated: I want a loan\n"
          ]
        }
      ]
    },
    {
      "cell_type": "code",
      "source": [
        "tag = predict_intent(english_text)\n",
        "response = get_response(tag)\n",
        "print(f\"🤖 Bot: {response}\")\n"
      ],
      "metadata": {
        "colab": {
          "base_uri": "https://localhost:8080/"
        },
        "id": "CfEZpBY4lyK3",
        "outputId": "b4bebcba-07be-4bca-c232-6bddef730818"
      },
      "execution_count": 16,
      "outputs": [
        {
          "output_type": "stream",
          "name": "stdout",
          "text": [
            "🤖 Bot: Please enter your income and credit score to check eligibility.\n"
          ]
        }
      ]
    },
    {
      "cell_type": "code",
      "source": [
        "def chatbot():\n",
        "    print(\"👋 Welcome to your Multilingual Financial Advisor Chatbot!\")\n",
        "    print(\"💬 Type 'quit' to exit.\")\n",
        "    print(\"-\" * 50)\n",
        "\n",
        "    while True:\n",
        "        user_input = input(\"You: \")\n",
        "        if user_input.lower() == 'quit':\n",
        "            print(\"🤖 Bot: Thank you! Stay financially healthy.\")\n",
        "            break\n",
        "\n",
        "        # Translate if not English\n",
        "        english_input = translate_to_english(user_input)\n",
        "        print(f\"🌐 Translated Input: {english_input}\")\n",
        "\n",
        "        # Analyze sentiment\n",
        "        sentiment = analyze_sentiment(english_input)\n",
        "        print(f\"🧠 Sentiment: {sentiment}\")\n",
        "\n",
        "        # Predict intent and get response\n",
        "        tag = predict_intent(english_input)\n",
        "        response = get_response(tag)\n",
        "        print(f\"🤖 Bot: {response}\")\n",
        "        print(\"-\" * 50)\n"
      ],
      "metadata": {
        "id": "o9AYsLMKl6lq"
      },
      "execution_count": 17,
      "outputs": []
    },
    {
      "cell_type": "code",
      "source": [
        "chatbot()\n"
      ],
      "metadata": {
        "colab": {
          "base_uri": "https://localhost:8080/"
        },
        "id": "Ku7IB6R3mBRN",
        "outputId": "aa415196-6457-4464-a90a-0e820542083b"
      },
      "execution_count": null,
      "outputs": [
        {
          "output_type": "stream",
          "name": "stdout",
          "text": [
            "👋 Welcome to your Multilingual Financial Advisor Chatbot!\n",
            "💬 Type 'quit' to exit.\n",
            "--------------------------------------------------\n",
            "You: \"मुझे लोन चाहिए\" \n",
            "🌐 Translated Input: \"I want a loan\"\n",
            "🧠 Sentiment: 🙂 Positive\n",
            "🤖 Bot: Please enter your income and credit score to check eligibility.\n",
            "--------------------------------------------------\n",
            "You: \"3000\"\n",
            "🌐 Translated Input: \"3000\"\n",
            "🧠 Sentiment: 😐 Neutral\n",
            "🤖 Bot: Consider using the 50-30-20 rule for budgeting.\n",
            "--------------------------------------------------\n",
            "You: 100000000\n",
            "🌐 Translated Input: 100000000\n",
            "🧠 Sentiment: 😐 Neutral\n",
            "🤖 Bot: Consider using the 50-30-20 rule for budgeting.\n",
            "--------------------------------------------------\n",
            "You: 20\n",
            "🌐 Translated Input: 20\n",
            "🧠 Sentiment: 😐 Neutral\n",
            "🤖 Bot: Consider using the 50-30-20 rule for budgeting.\n",
            "--------------------------------------------------\n",
            "You: i need 2 lakhs\n",
            "🌐 Translated Input: i need 2 lakhs\n",
            "🧠 Sentiment: 😐 Neutral\n",
            "🤖 Bot: Consider using the 50-30-20 rule for budgeting.\n",
            "--------------------------------------------------\n",
            "You: ok\n",
            "🌐 Translated Input: ok\n",
            "🧠 Sentiment: 🙂 Positive\n",
            "🤖 Bot: Consider using the 50-30-20 rule for budgeting.\n",
            "--------------------------------------------------\n",
            "You: next\n",
            "🌐 Translated Input: next\n",
            "🧠 Sentiment: 😐 Neutral\n",
            "🤖 Bot: Consider using the 50-30-20 rule for budgeting.\n",
            "--------------------------------------------------\n"
          ]
        }
      ]
    },
    {
      "cell_type": "code",
      "source": [
        "def chatbot():\n",
        "    print(\"🤖 Bot: Please enter your income, credit score, or a financial query.\")\n",
        "\n",
        "    while True:\n",
        "        user_input = input(\"You: \")\n",
        "        if user_input.lower() in [\"exit\", \"quit\", \"bye\"]:\n",
        "            print(\"🤖 Bot: Thank you! Stay financially healthy 💸\")\n",
        "            break\n",
        "\n",
        "        # Translate input to English\n",
        "        english_input = translate_to_english(user_input)\n",
        "        print(f\"🌐 Translated Input: {english_input}\")\n",
        "\n",
        "        # Sentiment Analysis\n",
        "        if english_input.replace(\" \", \"\").isnumeric():\n",
        "            sentiment = \"😐 Neutral (numeric input)\"\n",
        "        else:\n",
        "            sentiment_score = sia.polarity_scores(english_input)\n",
        "            compound = sentiment_score['compound']\n",
        "            if compound >= 0.05:\n",
        "                sentiment = \"🙂 Positive\"\n",
        "            elif compound <= -0.05:\n",
        "                sentiment = \"☹️ Negative\"\n",
        "            else:\n",
        "                sentiment = \"😐 Neutral\"\n",
        "\n",
        "        print(f\"🧠 Sentiment: {sentiment}\")\n",
        "\n",
        "        # Smart response logic\n",
        "        lower_input = english_input.lower()\n",
        "        if any(keyword in lower_input for keyword in [\"loan\", \"borrow\", \"emi\", \"credit\"]):\n",
        "            print(\"🤖 Bot: Based on your query, here are some options:\")\n",
        "            print(\"- 🏦 Check eligibility for a personal loan\")\n",
        "            print(\"- 📈 Improve credit score before applying\")\n",
        "            print(\"- 💡 Consider comparing interest rates across banks\")\n",
        "        elif any(keyword in lower_input for keyword in [\"investment\", \"mutual fund\", \"stocks\"]):\n",
        "            print(\"🤖 Bot: Here are some beginner investment options:\")\n",
        "            print(\"- 📊 Mutual funds (SIP)\")\n",
        "            print(\"- 🏠 Real estate\")\n",
        "            print(\"- 💼 Government bonds or FD\")\n",
        "        elif any(keyword in lower_input for keyword in [\"save\", \"budget\", \"income\", \"salary\"]):\n",
        "            print(\"🤖 Bot: You can use the 50-30-20 rule:\")\n",
        "            print(\"- 50% Needs | 30% Wants | 20% Savings\")\n",
        "            print(\"- Or use apps like Walnut, YNAB, or Goodbudget\")\n",
        "        elif any(keyword in lower_input for keyword in [\"insurance\", \"health\", \"life\"]):\n",
        "            print(\"🤖 Bot: Consider getting:\")\n",
        "            print(\"- 🛡️ Term life insurance (low premium)\")\n",
        "            print(\"- 🏥 Health insurance for medical emergencies\")\n",
        "        else:\n",
        "            print(\"🤖 Bot: I'm still learning! Try asking about loans, investments, or savings.\")\n",
        "\n",
        "        print(\"--------------------------------------------------\")\n"
      ],
      "metadata": {
        "id": "JxfAy2i48jZc"
      },
      "execution_count": null,
      "outputs": []
    }
  ]
}